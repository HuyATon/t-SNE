{
 "cells": [
  {
   "cell_type": "markdown",
   "metadata": {},
   "source": [
    "# ILAB-03: Trực quan hoá dữ liệu với t-SNE"
   ]
  },
  {
   "cell_type": "markdown",
   "metadata": {},
   "source": [
    "**Họ tên**: Tôn Anh Huy\n",
    "\n",
    "**MSSV**: 21120257"
   ]
  },
  {
   "cell_type": "markdown",
   "metadata": {},
   "source": [
    "Import các thư viện cần thiết"
   ]
  },
  {
   "cell_type": "code",
   "execution_count": 1,
   "metadata": {},
   "outputs": [
    {
     "name": "stderr",
     "output_type": "stream",
     "text": [
      "/Users/huyton/opt/anaconda3/envs/min_ds-env/lib/python3.10/site-packages/scipy/__init__.py:146: UserWarning: A NumPy version >=1.16.5 and <1.23.0 is required for this version of SciPy (detected version 1.26.4\n",
      "  warnings.warn(f\"A NumPy version >={np_minversion} and <{np_maxversion}\"\n"
     ]
    }
   ],
   "source": [
    "import pandas as pd\n",
    "import numpy as np\n",
    "import plotly.express as px\n",
    "\n",
    "from sklearn.decomposition import PCA\n",
    "from sklearn.manifold import TSNE"
   ]
  },
  {
   "cell_type": "markdown",
   "metadata": {},
   "source": [
    "# Giới thiệu về dữ liệu\n",
    "\n",
    "`glove.6B.50d` là một tập dữ liệu chứa các vector nhúng từ (word embedding) được đào tạo trên một tập dữ liệu khổng lồ gồm 6 tỷ từ. Mỗi từ trong tập dữ liệu được biểu diễn bằng một vector gồm 50 số thực, đại diện cho các đặc điểm ngữ nghĩa của từ đó.\n",
    "\n",
    "Link của dataset gốc: https://nlp.stanford.edu/projects/glove/\n",
    "\n",
    "Do mục đích minh hoạ cho t-SNE, dữ liệu đã được giảm bớt kích cỡ bằng cách lọc theo một vài topic nhất định\n",
    "\n",
    "Bộ dữ liệu này tương đối nhẹ và dễ dàng thực hiện. Bởi vì nếu sử dụng `t-sne` thì có độ phức tạp rất cao $O(n^2)$, nếu dùng dataset quá lớn thì thời gian để fit rất lâu"
   ]
  },
  {
   "cell_type": "code",
   "execution_count": 2,
   "metadata": {},
   "outputs": [
    {
     "data": {
      "text/html": [
       "<div>\n",
       "<style scoped>\n",
       "    .dataframe tbody tr th:only-of-type {\n",
       "        vertical-align: middle;\n",
       "    }\n",
       "\n",
       "    .dataframe tbody tr th {\n",
       "        vertical-align: top;\n",
       "    }\n",
       "\n",
       "    .dataframe thead th {\n",
       "        text-align: right;\n",
       "    }\n",
       "</style>\n",
       "<table border=\"1\" class=\"dataframe\">\n",
       "  <thead>\n",
       "    <tr style=\"text-align: right;\">\n",
       "      <th></th>\n",
       "      <th>word</th>\n",
       "      <th>1</th>\n",
       "      <th>2</th>\n",
       "      <th>3</th>\n",
       "      <th>4</th>\n",
       "      <th>5</th>\n",
       "      <th>6</th>\n",
       "      <th>7</th>\n",
       "      <th>8</th>\n",
       "      <th>9</th>\n",
       "      <th>...</th>\n",
       "      <th>42</th>\n",
       "      <th>43</th>\n",
       "      <th>44</th>\n",
       "      <th>45</th>\n",
       "      <th>46</th>\n",
       "      <th>47</th>\n",
       "      <th>48</th>\n",
       "      <th>49</th>\n",
       "      <th>50</th>\n",
       "      <th>topic</th>\n",
       "    </tr>\n",
       "  </thead>\n",
       "  <tbody>\n",
       "    <tr>\n",
       "      <th>0</th>\n",
       "      <td>fish</td>\n",
       "      <td>0.25590</td>\n",
       "      <td>-0.314520</td>\n",
       "      <td>-1.007900</td>\n",
       "      <td>0.143400</td>\n",
       "      <td>0.52982</td>\n",
       "      <td>0.31531</td>\n",
       "      <td>-0.82169</td>\n",
       "      <td>0.006003</td>\n",
       "      <td>1.52350</td>\n",
       "      <td>...</td>\n",
       "      <td>0.21292</td>\n",
       "      <td>1.07230</td>\n",
       "      <td>0.32437</td>\n",
       "      <td>1.33040</td>\n",
       "      <td>0.54586</td>\n",
       "      <td>-0.222360</td>\n",
       "      <td>-0.805890</td>\n",
       "      <td>0.164870</td>\n",
       "      <td>0.29792</td>\n",
       "      <td>animals</td>\n",
       "    </tr>\n",
       "    <tr>\n",
       "      <th>1</th>\n",
       "      <td>bird</td>\n",
       "      <td>0.78675</td>\n",
       "      <td>0.079368</td>\n",
       "      <td>-0.765970</td>\n",
       "      <td>0.193100</td>\n",
       "      <td>0.55014</td>\n",
       "      <td>0.26493</td>\n",
       "      <td>-0.75841</td>\n",
       "      <td>-0.881800</td>\n",
       "      <td>1.64680</td>\n",
       "      <td>...</td>\n",
       "      <td>0.31817</td>\n",
       "      <td>0.29354</td>\n",
       "      <td>0.25109</td>\n",
       "      <td>1.61110</td>\n",
       "      <td>0.71340</td>\n",
       "      <td>-0.152430</td>\n",
       "      <td>-0.253620</td>\n",
       "      <td>0.264190</td>\n",
       "      <td>0.15875</td>\n",
       "      <td>animals</td>\n",
       "    </tr>\n",
       "    <tr>\n",
       "      <th>2</th>\n",
       "      <td>dog</td>\n",
       "      <td>0.11008</td>\n",
       "      <td>-0.387810</td>\n",
       "      <td>-0.576150</td>\n",
       "      <td>-0.277140</td>\n",
       "      <td>0.70521</td>\n",
       "      <td>0.53994</td>\n",
       "      <td>-1.07860</td>\n",
       "      <td>-0.401460</td>\n",
       "      <td>1.15040</td>\n",
       "      <td>...</td>\n",
       "      <td>0.24068</td>\n",
       "      <td>-0.64819</td>\n",
       "      <td>0.83549</td>\n",
       "      <td>1.25020</td>\n",
       "      <td>-0.51379</td>\n",
       "      <td>0.042240</td>\n",
       "      <td>-0.881180</td>\n",
       "      <td>0.715800</td>\n",
       "      <td>0.38519</td>\n",
       "      <td>animals</td>\n",
       "    </tr>\n",
       "    <tr>\n",
       "      <th>3</th>\n",
       "      <td>tiger</td>\n",
       "      <td>0.33183</td>\n",
       "      <td>-0.602560</td>\n",
       "      <td>-0.046032</td>\n",
       "      <td>0.899410</td>\n",
       "      <td>0.26504</td>\n",
       "      <td>-0.02695</td>\n",
       "      <td>-0.89378</td>\n",
       "      <td>-0.219960</td>\n",
       "      <td>0.28162</td>\n",
       "      <td>...</td>\n",
       "      <td>-0.46533</td>\n",
       "      <td>-0.30380</td>\n",
       "      <td>0.11061</td>\n",
       "      <td>1.32160</td>\n",
       "      <td>-0.34734</td>\n",
       "      <td>0.039552</td>\n",
       "      <td>0.046421</td>\n",
       "      <td>-0.086983</td>\n",
       "      <td>-0.45584</td>\n",
       "      <td>animals</td>\n",
       "    </tr>\n",
       "    <tr>\n",
       "      <th>4</th>\n",
       "      <td>cat</td>\n",
       "      <td>0.45281</td>\n",
       "      <td>-0.501080</td>\n",
       "      <td>-0.537140</td>\n",
       "      <td>-0.015697</td>\n",
       "      <td>0.22191</td>\n",
       "      <td>0.54602</td>\n",
       "      <td>-0.67301</td>\n",
       "      <td>-0.689100</td>\n",
       "      <td>0.63493</td>\n",
       "      <td>...</td>\n",
       "      <td>0.48138</td>\n",
       "      <td>-0.43352</td>\n",
       "      <td>0.69455</td>\n",
       "      <td>0.91043</td>\n",
       "      <td>-0.28173</td>\n",
       "      <td>0.416370</td>\n",
       "      <td>-1.260900</td>\n",
       "      <td>0.712780</td>\n",
       "      <td>0.23782</td>\n",
       "      <td>animals</td>\n",
       "    </tr>\n",
       "  </tbody>\n",
       "</table>\n",
       "<p>5 rows × 52 columns</p>\n",
       "</div>"
      ],
      "text/plain": [
       "    word        1         2         3         4        5        6        7  \\\n",
       "0   fish  0.25590 -0.314520 -1.007900  0.143400  0.52982  0.31531 -0.82169   \n",
       "1   bird  0.78675  0.079368 -0.765970  0.193100  0.55014  0.26493 -0.75841   \n",
       "2    dog  0.11008 -0.387810 -0.576150 -0.277140  0.70521  0.53994 -1.07860   \n",
       "3  tiger  0.33183 -0.602560 -0.046032  0.899410  0.26504 -0.02695 -0.89378   \n",
       "4    cat  0.45281 -0.501080 -0.537140 -0.015697  0.22191  0.54602 -0.67301   \n",
       "\n",
       "          8        9  ...       42       43       44       45       46  \\\n",
       "0  0.006003  1.52350  ...  0.21292  1.07230  0.32437  1.33040  0.54586   \n",
       "1 -0.881800  1.64680  ...  0.31817  0.29354  0.25109  1.61110  0.71340   \n",
       "2 -0.401460  1.15040  ...  0.24068 -0.64819  0.83549  1.25020 -0.51379   \n",
       "3 -0.219960  0.28162  ... -0.46533 -0.30380  0.11061  1.32160 -0.34734   \n",
       "4 -0.689100  0.63493  ...  0.48138 -0.43352  0.69455  0.91043 -0.28173   \n",
       "\n",
       "         47        48        49       50    topic  \n",
       "0 -0.222360 -0.805890  0.164870  0.29792  animals  \n",
       "1 -0.152430 -0.253620  0.264190  0.15875  animals  \n",
       "2  0.042240 -0.881180  0.715800  0.38519  animals  \n",
       "3  0.039552  0.046421 -0.086983 -0.45584  animals  \n",
       "4  0.416370 -1.260900  0.712780  0.23782  animals  \n",
       "\n",
       "[5 rows x 52 columns]"
      ]
     },
     "execution_count": 2,
     "metadata": {},
     "output_type": "execute_result"
    }
   ],
   "source": [
    "df = pd.read_csv('sub_glove.6B.50d.csv', header=None)\n",
    "df.rename(columns={0: 'word', 51: 'topic'}, inplace=True)\n",
    "df.head()"
   ]
  },
  {
   "cell_type": "markdown",
   "metadata": {},
   "source": [
    "# Giảm chiều dữ liệu với PCA"
   ]
  },
  {
   "cell_type": "markdown",
   "metadata": {},
   "source": [
    "Bây giờ, ta thử thực hiện giảm chiều của dữ liệu gốc về 2 chiều.\n",
    "\n",
    "Đồng thời, so sánh luôn tốc độ fit với dữ liệu của PCA so với t-SNE"
   ]
  },
  {
   "cell_type": "code",
   "execution_count": 3,
   "metadata": {},
   "outputs": [],
   "source": [
    "X = df.drop(['word', 'topic'], axis=1)"
   ]
  },
  {
   "cell_type": "code",
   "execution_count": 4,
   "metadata": {},
   "outputs": [
    {
     "name": "stdout",
     "output_type": "stream",
     "text": [
      "CPU times: user 10.3 ms, sys: 13.7 ms, total: 24.1 ms\n",
      "Wall time: 22.1 ms\n"
     ]
    }
   ],
   "source": [
    "%%time\n",
    "pca = PCA(n_components=2)\n",
    "X_pca = pca.fit_transform(X)"
   ]
  },
  {
   "cell_type": "markdown",
   "metadata": {},
   "source": [
    "Thời gian fit với dữ liệu của PCA rất nhanh"
   ]
  },
  {
   "cell_type": "code",
   "execution_count": 5,
   "metadata": {},
   "outputs": [
    {
     "data": {
      "application/vnd.plotly.v1+json": {
       "config": {
        "plotlyServerURL": "https://plot.ly"
       },
       "data": [
        {
         "hovertemplate": "color=animals<br>1st dimension=%{x}<br>2st dimension=%{y}<br>text=%{text}<extra></extra>",
         "legendgroup": "animals",
         "marker": {
          "color": "#636efa",
          "line": {
           "color": "DarkSlateGrey",
           "width": 2
          },
          "size": 12,
          "symbol": "circle"
         },
         "mode": "markers+text",
         "name": "animals",
         "orientation": "v",
         "showlegend": true,
         "text": [
          "fish",
          "bird",
          "dog",
          "tiger",
          "cat",
          "lion",
          "elephant",
          "monkey",
          "zebra",
          "giraffe"
         ],
         "textposition": "top center",
         "type": "scatter",
         "x": [
          1.0401485097235044,
          0.4283581804816445,
          1.5490034966338075,
          0.3275697221301733,
          1.7324475195364388,
          1.3136116832606943,
          1.5127300411533682,
          2.224929200194325,
          2.5022357388484524,
          2.4846211037480934
         ],
         "xaxis": "x",
         "y": [
          0.6994449153345192,
          -0.4453229749692978,
          -1.2837568736719465,
          -0.5068209789180987,
          -0.8777556446875082,
          -0.9158953370052969,
          -0.8344144004391334,
          -0.45162348633301896,
          -0.19503385511270938,
          -0.6054977614368587
         ],
         "yaxis": "y"
        },
        {
         "hovertemplate": "color=countries<br>1st dimension=%{x}<br>2st dimension=%{y}<br>text=%{text}<extra></extra>",
         "legendgroup": "countries",
         "marker": {
          "color": "#EF553B",
          "line": {
           "color": "DarkSlateGrey",
           "width": 2
          },
          "size": 12,
          "symbol": "circle"
         },
         "mode": "markers+text",
         "name": "countries",
         "orientation": "v",
         "showlegend": true,
         "text": [
          "france",
          "germany",
          "canada",
          "mexico",
          "spain",
          "brazil",
          "argentina",
          "usa",
          "chile",
          "peru"
         ],
         "textposition": "top center",
         "type": "scatter",
         "x": [
          -2.8201104507287047,
          -3.270504974461257,
          -1.8663842146280383,
          -1.4337059695850223,
          -2.6913369356482795,
          -1.7061121965972719,
          -1.9564272620688068,
          -0.9958008869158993,
          -1.022792627998564,
          -0.9576837455391471
         ],
         "xaxis": "x",
         "y": [
          1.8091342389587532,
          1.0574648115708203,
          0.8901222366088354,
          2.755176944693229,
          2.780459654092339,
          3.322934494565774,
          3.2967163380815054,
          -0.09028770987939,
          3.506262709462346,
          3.244032007577324
         ],
         "yaxis": "y"
        },
        {
         "hovertemplate": "color=colors<br>1st dimension=%{x}<br>2st dimension=%{y}<br>text=%{text}<extra></extra>",
         "legendgroup": "colors",
         "marker": {
          "color": "#00cc96",
          "line": {
           "color": "DarkSlateGrey",
           "width": 2
          },
          "size": 12,
          "symbol": "circle"
         },
         "mode": "markers+text",
         "name": "colors",
         "orientation": "v",
         "showlegend": true,
         "text": [
          "white",
          "black",
          "red",
          "green",
          "blue",
          "yellow",
          "orange",
          "gray",
          "pink",
          "purple"
         ],
         "textposition": "top center",
         "type": "scatter",
         "x": [
          0.4184779961682339,
          0.4058565529620043,
          0.4633039879717419,
          0.7684851981148167,
          0.9996866206303628,
          1.2547457743019692,
          1.3200316228843643,
          1.1362223257539614,
          2.3812413269594535,
          2.257768521279357
         ],
         "xaxis": "x",
         "y": [
          -1.337500671287723,
          -0.9441434975306661,
          -0.2222249603911814,
          -0.8098652335473968,
          -0.6471418593450868,
          0.16056077266283955,
          0.7274572967107256,
          -1.676437467557935,
          -0.6348486322390501,
          -0.6631915631612029
         ],
         "yaxis": "y"
        },
        {
         "hovertemplate": "color=numbers<br>1st dimension=%{x}<br>2st dimension=%{y}<br>text=%{text}<extra></extra>",
         "legendgroup": "numbers",
         "marker": {
          "color": "#ab63fa",
          "line": {
           "color": "DarkSlateGrey",
           "width": 2
          },
          "size": 12,
          "symbol": "circle"
         },
         "mode": "markers+text",
         "name": "numbers",
         "orientation": "v",
         "showlegend": true,
         "text": [
          "one",
          "two",
          "three",
          "four",
          "five",
          "six",
          "seven",
          "eight",
          "nine",
          "ten"
         ],
         "textposition": "top center",
         "type": "scatter",
         "x": [
          -1.7518877293662023,
          -2.7380160160562106,
          -2.7820830059948425,
          -2.8237190405256243,
          -2.8013322222990977,
          -2.8462583256891665,
          -2.740118515089014,
          -2.7853074334989882,
          -2.8028275694025435,
          -2.01181233026905
         ],
         "xaxis": "x",
         "y": [
          -0.7277323983649471,
          -0.47804732898976604,
          -0.43631008194055665,
          -0.47534425253061224,
          -0.29084156066037653,
          -0.3630299387952237,
          -0.34556119962562326,
          -0.28049890424195706,
          -0.326964642658493,
          -0.588468684497437
         ],
         "yaxis": "y"
        },
        {
         "hovertemplate": "color=people_names<br>1st dimension=%{x}<br>2st dimension=%{y}<br>text=%{text}<extra></extra>",
         "legendgroup": "people_names",
         "marker": {
          "color": "#FFA15A",
          "line": {
           "color": "DarkSlateGrey",
           "width": 2
          },
          "size": 12,
          "symbol": "circle"
         },
         "mode": "markers+text",
         "name": "people_names",
         "orientation": "v",
         "showlegend": true,
         "text": [
          "john",
          "george",
          "michael",
          "paul",
          "jackson",
          "prince",
          "elvis",
          "madonna",
          "presley",
          "ringo"
         ],
         "textposition": "top center",
         "type": "scatter",
         "x": [
          -1.140077750308433,
          -1.219744514394607,
          -1.9283677523286815,
          -1.7637936383532367,
          -0.6142583181755,
          -1.1427976878433765,
          0.8253718345526317,
          0.7668863644478031,
          0.9088912226700256,
          1.013803494674719
         ],
         "xaxis": "x",
         "y": [
          -2.9738994853673,
          -2.2968509786337727,
          -2.538508032819041,
          -2.462752665376829,
          -2.0940612726625516,
          -0.6545807008673773,
          -1.819196240017712,
          -1.1284212849046777,
          -1.7153875763725306,
          -2.5016213066803217
         ],
         "yaxis": "y"
        },
        {
         "hovertemplate": "color=fruits<br>1st dimension=%{x}<br>2st dimension=%{y}<br>text=%{text}<extra></extra>",
         "legendgroup": "fruits",
         "marker": {
          "color": "#19d3f3",
          "line": {
           "color": "DarkSlateGrey",
           "width": 2
          },
          "size": 12,
          "symbol": "circle"
         },
         "mode": "markers+text",
         "name": "fruits",
         "orientation": "v",
         "showlegend": true,
         "text": [
          "orange",
          "apple",
          "banana",
          "grape",
          "strawberry",
          "mango",
          "pineapple",
          "kiwi",
          "watermelon",
          "blueberry"
         ],
         "textposition": "top center",
         "type": "scatter",
         "x": [
          1.3200316228843643,
          1.4623779011519702,
          1.8013758492217649,
          2.5473777548303813,
          2.173128199633454,
          2.9756631576605326,
          2.959744986865034,
          1.0624150019891476,
          2.874605871434024,
          3.4001127290129416
         ],
         "xaxis": "x",
         "y": [
          0.7274572967107256,
          0.7837019957306386,
          2.3400479658044504,
          1.9241145889058469,
          0.7370875508757807,
          1.928963974359807,
          2.2786081130409976,
          0.08257635324386116,
          1.8431605722601074,
          0.7443566122693747
         ],
         "yaxis": "y"
        }
       ],
       "layout": {
        "legend": {
         "title": {
          "text": "Topic"
         },
         "tracegroupgap": 0
        },
        "template": {
         "data": {
          "bar": [
           {
            "error_x": {
             "color": "#2a3f5f"
            },
            "error_y": {
             "color": "#2a3f5f"
            },
            "marker": {
             "line": {
              "color": "#E5ECF6",
              "width": 0.5
             },
             "pattern": {
              "fillmode": "overlay",
              "size": 10,
              "solidity": 0.2
             }
            },
            "type": "bar"
           }
          ],
          "barpolar": [
           {
            "marker": {
             "line": {
              "color": "#E5ECF6",
              "width": 0.5
             },
             "pattern": {
              "fillmode": "overlay",
              "size": 10,
              "solidity": 0.2
             }
            },
            "type": "barpolar"
           }
          ],
          "carpet": [
           {
            "aaxis": {
             "endlinecolor": "#2a3f5f",
             "gridcolor": "white",
             "linecolor": "white",
             "minorgridcolor": "white",
             "startlinecolor": "#2a3f5f"
            },
            "baxis": {
             "endlinecolor": "#2a3f5f",
             "gridcolor": "white",
             "linecolor": "white",
             "minorgridcolor": "white",
             "startlinecolor": "#2a3f5f"
            },
            "type": "carpet"
           }
          ],
          "choropleth": [
           {
            "colorbar": {
             "outlinewidth": 0,
             "ticks": ""
            },
            "type": "choropleth"
           }
          ],
          "contour": [
           {
            "colorbar": {
             "outlinewidth": 0,
             "ticks": ""
            },
            "colorscale": [
             [
              0,
              "#0d0887"
             ],
             [
              0.1111111111111111,
              "#46039f"
             ],
             [
              0.2222222222222222,
              "#7201a8"
             ],
             [
              0.3333333333333333,
              "#9c179e"
             ],
             [
              0.4444444444444444,
              "#bd3786"
             ],
             [
              0.5555555555555556,
              "#d8576b"
             ],
             [
              0.6666666666666666,
              "#ed7953"
             ],
             [
              0.7777777777777778,
              "#fb9f3a"
             ],
             [
              0.8888888888888888,
              "#fdca26"
             ],
             [
              1,
              "#f0f921"
             ]
            ],
            "type": "contour"
           }
          ],
          "contourcarpet": [
           {
            "colorbar": {
             "outlinewidth": 0,
             "ticks": ""
            },
            "type": "contourcarpet"
           }
          ],
          "heatmap": [
           {
            "colorbar": {
             "outlinewidth": 0,
             "ticks": ""
            },
            "colorscale": [
             [
              0,
              "#0d0887"
             ],
             [
              0.1111111111111111,
              "#46039f"
             ],
             [
              0.2222222222222222,
              "#7201a8"
             ],
             [
              0.3333333333333333,
              "#9c179e"
             ],
             [
              0.4444444444444444,
              "#bd3786"
             ],
             [
              0.5555555555555556,
              "#d8576b"
             ],
             [
              0.6666666666666666,
              "#ed7953"
             ],
             [
              0.7777777777777778,
              "#fb9f3a"
             ],
             [
              0.8888888888888888,
              "#fdca26"
             ],
             [
              1,
              "#f0f921"
             ]
            ],
            "type": "heatmap"
           }
          ],
          "heatmapgl": [
           {
            "colorbar": {
             "outlinewidth": 0,
             "ticks": ""
            },
            "colorscale": [
             [
              0,
              "#0d0887"
             ],
             [
              0.1111111111111111,
              "#46039f"
             ],
             [
              0.2222222222222222,
              "#7201a8"
             ],
             [
              0.3333333333333333,
              "#9c179e"
             ],
             [
              0.4444444444444444,
              "#bd3786"
             ],
             [
              0.5555555555555556,
              "#d8576b"
             ],
             [
              0.6666666666666666,
              "#ed7953"
             ],
             [
              0.7777777777777778,
              "#fb9f3a"
             ],
             [
              0.8888888888888888,
              "#fdca26"
             ],
             [
              1,
              "#f0f921"
             ]
            ],
            "type": "heatmapgl"
           }
          ],
          "histogram": [
           {
            "marker": {
             "pattern": {
              "fillmode": "overlay",
              "size": 10,
              "solidity": 0.2
             }
            },
            "type": "histogram"
           }
          ],
          "histogram2d": [
           {
            "colorbar": {
             "outlinewidth": 0,
             "ticks": ""
            },
            "colorscale": [
             [
              0,
              "#0d0887"
             ],
             [
              0.1111111111111111,
              "#46039f"
             ],
             [
              0.2222222222222222,
              "#7201a8"
             ],
             [
              0.3333333333333333,
              "#9c179e"
             ],
             [
              0.4444444444444444,
              "#bd3786"
             ],
             [
              0.5555555555555556,
              "#d8576b"
             ],
             [
              0.6666666666666666,
              "#ed7953"
             ],
             [
              0.7777777777777778,
              "#fb9f3a"
             ],
             [
              0.8888888888888888,
              "#fdca26"
             ],
             [
              1,
              "#f0f921"
             ]
            ],
            "type": "histogram2d"
           }
          ],
          "histogram2dcontour": [
           {
            "colorbar": {
             "outlinewidth": 0,
             "ticks": ""
            },
            "colorscale": [
             [
              0,
              "#0d0887"
             ],
             [
              0.1111111111111111,
              "#46039f"
             ],
             [
              0.2222222222222222,
              "#7201a8"
             ],
             [
              0.3333333333333333,
              "#9c179e"
             ],
             [
              0.4444444444444444,
              "#bd3786"
             ],
             [
              0.5555555555555556,
              "#d8576b"
             ],
             [
              0.6666666666666666,
              "#ed7953"
             ],
             [
              0.7777777777777778,
              "#fb9f3a"
             ],
             [
              0.8888888888888888,
              "#fdca26"
             ],
             [
              1,
              "#f0f921"
             ]
            ],
            "type": "histogram2dcontour"
           }
          ],
          "mesh3d": [
           {
            "colorbar": {
             "outlinewidth": 0,
             "ticks": ""
            },
            "type": "mesh3d"
           }
          ],
          "parcoords": [
           {
            "line": {
             "colorbar": {
              "outlinewidth": 0,
              "ticks": ""
             }
            },
            "type": "parcoords"
           }
          ],
          "pie": [
           {
            "automargin": true,
            "type": "pie"
           }
          ],
          "scatter": [
           {
            "fillpattern": {
             "fillmode": "overlay",
             "size": 10,
             "solidity": 0.2
            },
            "type": "scatter"
           }
          ],
          "scatter3d": [
           {
            "line": {
             "colorbar": {
              "outlinewidth": 0,
              "ticks": ""
             }
            },
            "marker": {
             "colorbar": {
              "outlinewidth": 0,
              "ticks": ""
             }
            },
            "type": "scatter3d"
           }
          ],
          "scattercarpet": [
           {
            "marker": {
             "colorbar": {
              "outlinewidth": 0,
              "ticks": ""
             }
            },
            "type": "scattercarpet"
           }
          ],
          "scattergeo": [
           {
            "marker": {
             "colorbar": {
              "outlinewidth": 0,
              "ticks": ""
             }
            },
            "type": "scattergeo"
           }
          ],
          "scattergl": [
           {
            "marker": {
             "colorbar": {
              "outlinewidth": 0,
              "ticks": ""
             }
            },
            "type": "scattergl"
           }
          ],
          "scattermapbox": [
           {
            "marker": {
             "colorbar": {
              "outlinewidth": 0,
              "ticks": ""
             }
            },
            "type": "scattermapbox"
           }
          ],
          "scatterpolar": [
           {
            "marker": {
             "colorbar": {
              "outlinewidth": 0,
              "ticks": ""
             }
            },
            "type": "scatterpolar"
           }
          ],
          "scatterpolargl": [
           {
            "marker": {
             "colorbar": {
              "outlinewidth": 0,
              "ticks": ""
             }
            },
            "type": "scatterpolargl"
           }
          ],
          "scatterternary": [
           {
            "marker": {
             "colorbar": {
              "outlinewidth": 0,
              "ticks": ""
             }
            },
            "type": "scatterternary"
           }
          ],
          "surface": [
           {
            "colorbar": {
             "outlinewidth": 0,
             "ticks": ""
            },
            "colorscale": [
             [
              0,
              "#0d0887"
             ],
             [
              0.1111111111111111,
              "#46039f"
             ],
             [
              0.2222222222222222,
              "#7201a8"
             ],
             [
              0.3333333333333333,
              "#9c179e"
             ],
             [
              0.4444444444444444,
              "#bd3786"
             ],
             [
              0.5555555555555556,
              "#d8576b"
             ],
             [
              0.6666666666666666,
              "#ed7953"
             ],
             [
              0.7777777777777778,
              "#fb9f3a"
             ],
             [
              0.8888888888888888,
              "#fdca26"
             ],
             [
              1,
              "#f0f921"
             ]
            ],
            "type": "surface"
           }
          ],
          "table": [
           {
            "cells": {
             "fill": {
              "color": "#EBF0F8"
             },
             "line": {
              "color": "white"
             }
            },
            "header": {
             "fill": {
              "color": "#C8D4E3"
             },
             "line": {
              "color": "white"
             }
            },
            "type": "table"
           }
          ]
         },
         "layout": {
          "annotationdefaults": {
           "arrowcolor": "#2a3f5f",
           "arrowhead": 0,
           "arrowwidth": 1
          },
          "autotypenumbers": "strict",
          "coloraxis": {
           "colorbar": {
            "outlinewidth": 0,
            "ticks": ""
           }
          },
          "colorscale": {
           "diverging": [
            [
             0,
             "#8e0152"
            ],
            [
             0.1,
             "#c51b7d"
            ],
            [
             0.2,
             "#de77ae"
            ],
            [
             0.3,
             "#f1b6da"
            ],
            [
             0.4,
             "#fde0ef"
            ],
            [
             0.5,
             "#f7f7f7"
            ],
            [
             0.6,
             "#e6f5d0"
            ],
            [
             0.7,
             "#b8e186"
            ],
            [
             0.8,
             "#7fbc41"
            ],
            [
             0.9,
             "#4d9221"
            ],
            [
             1,
             "#276419"
            ]
           ],
           "sequential": [
            [
             0,
             "#0d0887"
            ],
            [
             0.1111111111111111,
             "#46039f"
            ],
            [
             0.2222222222222222,
             "#7201a8"
            ],
            [
             0.3333333333333333,
             "#9c179e"
            ],
            [
             0.4444444444444444,
             "#bd3786"
            ],
            [
             0.5555555555555556,
             "#d8576b"
            ],
            [
             0.6666666666666666,
             "#ed7953"
            ],
            [
             0.7777777777777778,
             "#fb9f3a"
            ],
            [
             0.8888888888888888,
             "#fdca26"
            ],
            [
             1,
             "#f0f921"
            ]
           ],
           "sequentialminus": [
            [
             0,
             "#0d0887"
            ],
            [
             0.1111111111111111,
             "#46039f"
            ],
            [
             0.2222222222222222,
             "#7201a8"
            ],
            [
             0.3333333333333333,
             "#9c179e"
            ],
            [
             0.4444444444444444,
             "#bd3786"
            ],
            [
             0.5555555555555556,
             "#d8576b"
            ],
            [
             0.6666666666666666,
             "#ed7953"
            ],
            [
             0.7777777777777778,
             "#fb9f3a"
            ],
            [
             0.8888888888888888,
             "#fdca26"
            ],
            [
             1,
             "#f0f921"
            ]
           ]
          },
          "colorway": [
           "#636efa",
           "#EF553B",
           "#00cc96",
           "#ab63fa",
           "#FFA15A",
           "#19d3f3",
           "#FF6692",
           "#B6E880",
           "#FF97FF",
           "#FECB52"
          ],
          "font": {
           "color": "#2a3f5f"
          },
          "geo": {
           "bgcolor": "white",
           "lakecolor": "white",
           "landcolor": "#E5ECF6",
           "showlakes": true,
           "showland": true,
           "subunitcolor": "white"
          },
          "hoverlabel": {
           "align": "left"
          },
          "hovermode": "closest",
          "mapbox": {
           "style": "light"
          },
          "paper_bgcolor": "white",
          "plot_bgcolor": "#E5ECF6",
          "polar": {
           "angularaxis": {
            "gridcolor": "white",
            "linecolor": "white",
            "ticks": ""
           },
           "bgcolor": "#E5ECF6",
           "radialaxis": {
            "gridcolor": "white",
            "linecolor": "white",
            "ticks": ""
           }
          },
          "scene": {
           "xaxis": {
            "backgroundcolor": "#E5ECF6",
            "gridcolor": "white",
            "gridwidth": 2,
            "linecolor": "white",
            "showbackground": true,
            "ticks": "",
            "zerolinecolor": "white"
           },
           "yaxis": {
            "backgroundcolor": "#E5ECF6",
            "gridcolor": "white",
            "gridwidth": 2,
            "linecolor": "white",
            "showbackground": true,
            "ticks": "",
            "zerolinecolor": "white"
           },
           "zaxis": {
            "backgroundcolor": "#E5ECF6",
            "gridcolor": "white",
            "gridwidth": 2,
            "linecolor": "white",
            "showbackground": true,
            "ticks": "",
            "zerolinecolor": "white"
           }
          },
          "shapedefaults": {
           "line": {
            "color": "#2a3f5f"
           }
          },
          "ternary": {
           "aaxis": {
            "gridcolor": "white",
            "linecolor": "white",
            "ticks": ""
           },
           "baxis": {
            "gridcolor": "white",
            "linecolor": "white",
            "ticks": ""
           },
           "bgcolor": "#E5ECF6",
           "caxis": {
            "gridcolor": "white",
            "linecolor": "white",
            "ticks": ""
           }
          },
          "title": {
           "x": 0.05
          },
          "xaxis": {
           "automargin": true,
           "gridcolor": "white",
           "linecolor": "white",
           "ticks": "",
           "title": {
            "standoff": 15
           },
           "zerolinecolor": "white",
           "zerolinewidth": 2
          },
          "yaxis": {
           "automargin": true,
           "gridcolor": "white",
           "linecolor": "white",
           "ticks": "",
           "title": {
            "standoff": 15
           },
           "zerolinecolor": "white",
           "zerolinewidth": 2
          }
         }
        },
        "title": {
         "text": "PCA"
        },
        "xaxis": {
         "anchor": "y",
         "domain": [
          0,
          1
         ],
         "title": {
          "text": "1st dimension"
         }
        },
        "yaxis": {
         "anchor": "x",
         "domain": [
          0,
          1
         ],
         "title": {
          "text": "2st dimension"
         }
        }
       }
      }
     },
     "metadata": {},
     "output_type": "display_data"
    }
   ],
   "source": [
    "fig = px.scatter(\n",
    "    x=X_pca[:, 0],\n",
    "    y=X_pca[:, 1],\n",
    "    color=df['topic'],\n",
    "    text=df['word'],\n",
    "    title='PCA',\n",
    "    labels={'x': '1st dimension', 'y': '2st dimension'},\n",
    "    # change legend title\n",
    ")\n",
    "\n",
    "fig.update_layout(legend_title_text='Topic')\n",
    "\n",
    "fig.update_traces(\n",
    "    textposition='top center',\n",
    "    marker=dict(size=12,\n",
    "                line=dict(width=2,\n",
    "                          color='DarkSlateGrey'))\n",
    ")"
   ]
  },
  {
   "cell_type": "markdown",
   "metadata": {},
   "source": [
    "**Nhận xét**\n",
    "\n",
    "- Dễ dàng thấy giữa các clusters có sự trùng lắp với nhau\n",
    "\n",
    "- PCA thể hiện tốt trong việc bảo toàn cấu trúc tổng thể của dữ liệu, giữ lại được nhiều thông tin nhất có thể. Tuy nhiên không thể hiện rõ nét mối quan hệ giữa các cụm dữ liệu.\n",
    "\n",
    "- Việc sử dụng tương đối dễ dàng do không yêu cầu chỉ định các siêu tham số"
   ]
  },
  {
   "cell_type": "markdown",
   "metadata": {},
   "source": [
    "# Giảm chiều dữ liệu với t-SNE"
   ]
  },
  {
   "cell_type": "markdown",
   "metadata": {},
   "source": [
    "Ý tưởng chính của t-SNE là biểu diễn các dữ liệu ở không gian có số chiều lớn về không gian có số chiều thấp, thông thường là 2-3 chiều, nhưng vẫn duy trì được mối quan hệ cục bộ giữa các điểm dữ liệu. Thuật toán xây dựng một phân phối đại diện cho sự tương tự của các điểm dữ liệu trong không gian gốc và phân phối tương tự trong không gian có số chiều thấp. Thuật toán sẽ cố gắng tối tiểu hoá sự sai khác giữa hai phân phối này"
   ]
  },
  {
   "cell_type": "markdown",
   "metadata": {},
   "source": [
    "Bây giờ ta sẽ đưa dữ liệu gốc ở không gian có số chiều cao (50), về không gian có số chiều thấp (2).\n",
    "\n",
    "Đồng thời, đo thời gian để khớp với dữ liệu của `t-SNE` so với `PCA`"
   ]
  },
  {
   "cell_type": "code",
   "execution_count": 6,
   "metadata": {},
   "outputs": [
    {
     "name": "stdout",
     "output_type": "stream",
     "text": [
      "CPU times: user 1.48 s, sys: 1.1 s, total: 2.58 s\n",
      "Wall time: 498 ms\n"
     ]
    }
   ],
   "source": [
    "%%time\n",
    "tsne = TSNE(n_components=2, random_state=0)\n",
    "X_transformed = tsne.fit_transform(X)"
   ]
  },
  {
   "cell_type": "markdown",
   "metadata": {},
   "source": [
    "Thời gian fit với dữ liệu của t-sne tương đối lâu so với pca. Điều này dễ hiểu vì t-sne thường yêu cầu số lần lặp đủ lớn để có thể đạt được trạng thái phù hợp, việc này có thể còn lâu hơn nếu người dùng đưa ra số vòng lặp lớn hơn."
   ]
  },
  {
   "cell_type": "code",
   "execution_count": 7,
   "metadata": {},
   "outputs": [
    {
     "data": {
      "application/vnd.plotly.v1+json": {
       "config": {
        "plotlyServerURL": "https://plot.ly"
       },
       "data": [
        {
         "hovertemplate": "color=animals<br>1st dimension=%{x}<br>2st dimension=%{y}<br>text=%{text}<extra></extra>",
         "legendgroup": "animals",
         "marker": {
          "color": "#636efa",
          "line": {
           "color": "DarkSlateGrey",
           "width": 2
          },
          "size": 12,
          "symbol": "circle"
         },
         "mode": "markers+text",
         "name": "animals",
         "orientation": "v",
         "showlegend": true,
         "text": [
          "fish",
          "bird",
          "dog",
          "tiger",
          "cat",
          "lion",
          "elephant",
          "monkey",
          "zebra",
          "giraffe"
         ],
         "textposition": "top center",
         "type": "scatter",
         "x": [
          3.807427406311035,
          3.464351177215576,
          2.7281100749969482,
          3.1860339641571045,
          2.5983941555023193,
          2.431627035140991,
          2.9048871994018555,
          2.364961624145508,
          2.30690860748291,
          2.4066309928894043
         ],
         "xaxis": "x",
         "y": [
          -2.2375941276550293,
          -2.461656332015991,
          -2.822253942489624,
          -3.3719563484191895,
          -2.646347999572754,
          -2.9146220684051514,
          -2.4149107933044434,
          -2.482085704803467,
          -1.3332951068878174,
          -1.4131724834442139
         ],
         "yaxis": "y"
        },
        {
         "hovertemplate": "color=countries<br>1st dimension=%{x}<br>2st dimension=%{y}<br>text=%{text}<extra></extra>",
         "legendgroup": "countries",
         "marker": {
          "color": "#EF553B",
          "line": {
           "color": "DarkSlateGrey",
           "width": 2
          },
          "size": 12,
          "symbol": "circle"
         },
         "mode": "markers+text",
         "name": "countries",
         "orientation": "v",
         "showlegend": true,
         "text": [
          "france",
          "germany",
          "canada",
          "mexico",
          "spain",
          "brazil",
          "argentina",
          "usa",
          "chile",
          "peru"
         ],
         "textposition": "top center",
         "type": "scatter",
         "x": [
          5.604311943054199,
          5.451596260070801,
          4.411649227142334,
          5.5751261711120605,
          5.711288928985596,
          5.76110315322876,
          5.95919942855835,
          4.143670082092285,
          5.843587875366211,
          5.805825710296631
         ],
         "xaxis": "x",
         "y": [
          -4.941943645477295,
          -4.752279758453369,
          -5.020442008972168,
          -6.371077060699463,
          -5.627521991729736,
          -5.972618103027344,
          -6.000534534454346,
          -4.856104850769043,
          -6.319092273712158,
          -6.418506622314453
         ],
         "yaxis": "y"
        },
        {
         "hovertemplate": "color=colors<br>1st dimension=%{x}<br>2st dimension=%{y}<br>text=%{text}<extra></extra>",
         "legendgroup": "colors",
         "marker": {
          "color": "#00cc96",
          "line": {
           "color": "DarkSlateGrey",
           "width": 2
          },
          "size": 12,
          "symbol": "circle"
         },
         "mode": "markers+text",
         "name": "colors",
         "orientation": "v",
         "showlegend": true,
         "text": [
          "white",
          "black",
          "red",
          "green",
          "blue",
          "yellow",
          "orange",
          "gray",
          "pink",
          "purple"
         ],
         "textposition": "top center",
         "type": "scatter",
         "x": [
          1.229183316230774,
          1.5456311702728271,
          1.518568515777588,
          1.2067197561264038,
          1.2660269737243652,
          1.3011494874954224,
          0.35362541675567627,
          0.8826391100883484,
          0.8830713629722595,
          0.9925945997238159
         ],
         "xaxis": "x",
         "y": [
          -4.826250076293945,
          -4.5855817794799805,
          -4.06481409072876,
          -4.438138008117676,
          -4.091439247131348,
          -3.654193878173828,
          -3.6242728233337402,
          -4.794347286224365,
          -3.551680564880371,
          -3.531041145324707
         ],
         "yaxis": "y"
        },
        {
         "hovertemplate": "color=numbers<br>1st dimension=%{x}<br>2st dimension=%{y}<br>text=%{text}<extra></extra>",
         "legendgroup": "numbers",
         "marker": {
          "color": "#ab63fa",
          "line": {
           "color": "DarkSlateGrey",
           "width": 2
          },
          "size": 12,
          "symbol": "circle"
         },
         "mode": "markers+text",
         "name": "numbers",
         "orientation": "v",
         "showlegend": true,
         "text": [
          "one",
          "two",
          "three",
          "four",
          "five",
          "six",
          "seven",
          "eight",
          "nine",
          "ten"
         ],
         "textposition": "top center",
         "type": "scatter",
         "x": [
          2.558708667755127,
          2.822402000427246,
          2.9749529361724854,
          3.063375473022461,
          3.329252243041992,
          3.3146698474884033,
          3.457843542098999,
          3.4741086959838867,
          3.573347330093384,
          3.2407894134521484
         ],
         "xaxis": "x",
         "y": [
          -6.009262561798096,
          -6.702796459197998,
          -6.578117847442627,
          -6.917327404022217,
          -6.424211502075195,
          -6.955969333648682,
          -6.531070232391357,
          -6.910211563110352,
          -6.6612629890441895,
          -5.960837364196777
         ],
         "yaxis": "y"
        },
        {
         "hovertemplate": "color=people_names<br>1st dimension=%{x}<br>2st dimension=%{y}<br>text=%{text}<extra></extra>",
         "legendgroup": "people_names",
         "marker": {
          "color": "#FFA15A",
          "line": {
           "color": "DarkSlateGrey",
           "width": 2
          },
          "size": 12,
          "symbol": "circle"
         },
         "mode": "markers+text",
         "name": "people_names",
         "orientation": "v",
         "showlegend": true,
         "text": [
          "john",
          "george",
          "michael",
          "paul",
          "jackson",
          "prince",
          "elvis",
          "madonna",
          "presley",
          "ringo"
         ],
         "textposition": "top center",
         "type": "scatter",
         "x": [
          0.6810342669487,
          0.8590350151062012,
          0.24703232944011688,
          0.3299694359302521,
          0.26238295435905457,
          1.4591580629348755,
          -0.7267322540283203,
          -0.5752466320991516,
          -0.8254007697105408,
          -1.1808308362960815
         ],
         "xaxis": "x",
         "y": [
          -6.939400672912598,
          -6.977975368499756,
          -7.10344123840332,
          -7.060732364654541,
          -6.237308979034424,
          -7.488198757171631,
          -5.609738826751709,
          -5.518261909484863,
          -5.6930131912231445,
          -5.9402241706848145
         ],
         "yaxis": "y"
        },
        {
         "hovertemplate": "color=fruits<br>1st dimension=%{x}<br>2st dimension=%{y}<br>text=%{text}<extra></extra>",
         "legendgroup": "fruits",
         "marker": {
          "color": "#19d3f3",
          "line": {
           "color": "DarkSlateGrey",
           "width": 2
          },
          "size": 12,
          "symbol": "circle"
         },
         "mode": "markers+text",
         "name": "fruits",
         "orientation": "v",
         "showlegend": true,
         "text": [
          "orange",
          "apple",
          "banana",
          "grape",
          "strawberry",
          "mango",
          "pineapple",
          "kiwi",
          "watermelon",
          "blueberry"
         ],
         "textposition": "top center",
         "type": "scatter",
         "x": [
          0.35362541675567627,
          -0.7720159888267517,
          0.28873127698898315,
          0.45324552059173584,
          -0.1359567642211914,
          -0.03669577091932297,
          -0.14134447276592255,
          2.119645118713379,
          0.06383540481328964,
          -0.4892943203449249
         ],
         "xaxis": "x",
         "y": [
          -3.6242728233337402,
          -2.520000696182251,
          -1.8560320138931274,
          -0.9740602970123291,
          -2.311061143875122,
          -1.6986092329025269,
          -1.6852084398269653,
          -1.9230667352676392,
          -1.4517513513565063,
          -1.575423240661621
         ],
         "yaxis": "y"
        }
       ],
       "layout": {
        "legend": {
         "title": {
          "text": "Topic"
         },
         "tracegroupgap": 0
        },
        "template": {
         "data": {
          "bar": [
           {
            "error_x": {
             "color": "#2a3f5f"
            },
            "error_y": {
             "color": "#2a3f5f"
            },
            "marker": {
             "line": {
              "color": "#E5ECF6",
              "width": 0.5
             },
             "pattern": {
              "fillmode": "overlay",
              "size": 10,
              "solidity": 0.2
             }
            },
            "type": "bar"
           }
          ],
          "barpolar": [
           {
            "marker": {
             "line": {
              "color": "#E5ECF6",
              "width": 0.5
             },
             "pattern": {
              "fillmode": "overlay",
              "size": 10,
              "solidity": 0.2
             }
            },
            "type": "barpolar"
           }
          ],
          "carpet": [
           {
            "aaxis": {
             "endlinecolor": "#2a3f5f",
             "gridcolor": "white",
             "linecolor": "white",
             "minorgridcolor": "white",
             "startlinecolor": "#2a3f5f"
            },
            "baxis": {
             "endlinecolor": "#2a3f5f",
             "gridcolor": "white",
             "linecolor": "white",
             "minorgridcolor": "white",
             "startlinecolor": "#2a3f5f"
            },
            "type": "carpet"
           }
          ],
          "choropleth": [
           {
            "colorbar": {
             "outlinewidth": 0,
             "ticks": ""
            },
            "type": "choropleth"
           }
          ],
          "contour": [
           {
            "colorbar": {
             "outlinewidth": 0,
             "ticks": ""
            },
            "colorscale": [
             [
              0,
              "#0d0887"
             ],
             [
              0.1111111111111111,
              "#46039f"
             ],
             [
              0.2222222222222222,
              "#7201a8"
             ],
             [
              0.3333333333333333,
              "#9c179e"
             ],
             [
              0.4444444444444444,
              "#bd3786"
             ],
             [
              0.5555555555555556,
              "#d8576b"
             ],
             [
              0.6666666666666666,
              "#ed7953"
             ],
             [
              0.7777777777777778,
              "#fb9f3a"
             ],
             [
              0.8888888888888888,
              "#fdca26"
             ],
             [
              1,
              "#f0f921"
             ]
            ],
            "type": "contour"
           }
          ],
          "contourcarpet": [
           {
            "colorbar": {
             "outlinewidth": 0,
             "ticks": ""
            },
            "type": "contourcarpet"
           }
          ],
          "heatmap": [
           {
            "colorbar": {
             "outlinewidth": 0,
             "ticks": ""
            },
            "colorscale": [
             [
              0,
              "#0d0887"
             ],
             [
              0.1111111111111111,
              "#46039f"
             ],
             [
              0.2222222222222222,
              "#7201a8"
             ],
             [
              0.3333333333333333,
              "#9c179e"
             ],
             [
              0.4444444444444444,
              "#bd3786"
             ],
             [
              0.5555555555555556,
              "#d8576b"
             ],
             [
              0.6666666666666666,
              "#ed7953"
             ],
             [
              0.7777777777777778,
              "#fb9f3a"
             ],
             [
              0.8888888888888888,
              "#fdca26"
             ],
             [
              1,
              "#f0f921"
             ]
            ],
            "type": "heatmap"
           }
          ],
          "heatmapgl": [
           {
            "colorbar": {
             "outlinewidth": 0,
             "ticks": ""
            },
            "colorscale": [
             [
              0,
              "#0d0887"
             ],
             [
              0.1111111111111111,
              "#46039f"
             ],
             [
              0.2222222222222222,
              "#7201a8"
             ],
             [
              0.3333333333333333,
              "#9c179e"
             ],
             [
              0.4444444444444444,
              "#bd3786"
             ],
             [
              0.5555555555555556,
              "#d8576b"
             ],
             [
              0.6666666666666666,
              "#ed7953"
             ],
             [
              0.7777777777777778,
              "#fb9f3a"
             ],
             [
              0.8888888888888888,
              "#fdca26"
             ],
             [
              1,
              "#f0f921"
             ]
            ],
            "type": "heatmapgl"
           }
          ],
          "histogram": [
           {
            "marker": {
             "pattern": {
              "fillmode": "overlay",
              "size": 10,
              "solidity": 0.2
             }
            },
            "type": "histogram"
           }
          ],
          "histogram2d": [
           {
            "colorbar": {
             "outlinewidth": 0,
             "ticks": ""
            },
            "colorscale": [
             [
              0,
              "#0d0887"
             ],
             [
              0.1111111111111111,
              "#46039f"
             ],
             [
              0.2222222222222222,
              "#7201a8"
             ],
             [
              0.3333333333333333,
              "#9c179e"
             ],
             [
              0.4444444444444444,
              "#bd3786"
             ],
             [
              0.5555555555555556,
              "#d8576b"
             ],
             [
              0.6666666666666666,
              "#ed7953"
             ],
             [
              0.7777777777777778,
              "#fb9f3a"
             ],
             [
              0.8888888888888888,
              "#fdca26"
             ],
             [
              1,
              "#f0f921"
             ]
            ],
            "type": "histogram2d"
           }
          ],
          "histogram2dcontour": [
           {
            "colorbar": {
             "outlinewidth": 0,
             "ticks": ""
            },
            "colorscale": [
             [
              0,
              "#0d0887"
             ],
             [
              0.1111111111111111,
              "#46039f"
             ],
             [
              0.2222222222222222,
              "#7201a8"
             ],
             [
              0.3333333333333333,
              "#9c179e"
             ],
             [
              0.4444444444444444,
              "#bd3786"
             ],
             [
              0.5555555555555556,
              "#d8576b"
             ],
             [
              0.6666666666666666,
              "#ed7953"
             ],
             [
              0.7777777777777778,
              "#fb9f3a"
             ],
             [
              0.8888888888888888,
              "#fdca26"
             ],
             [
              1,
              "#f0f921"
             ]
            ],
            "type": "histogram2dcontour"
           }
          ],
          "mesh3d": [
           {
            "colorbar": {
             "outlinewidth": 0,
             "ticks": ""
            },
            "type": "mesh3d"
           }
          ],
          "parcoords": [
           {
            "line": {
             "colorbar": {
              "outlinewidth": 0,
              "ticks": ""
             }
            },
            "type": "parcoords"
           }
          ],
          "pie": [
           {
            "automargin": true,
            "type": "pie"
           }
          ],
          "scatter": [
           {
            "fillpattern": {
             "fillmode": "overlay",
             "size": 10,
             "solidity": 0.2
            },
            "type": "scatter"
           }
          ],
          "scatter3d": [
           {
            "line": {
             "colorbar": {
              "outlinewidth": 0,
              "ticks": ""
             }
            },
            "marker": {
             "colorbar": {
              "outlinewidth": 0,
              "ticks": ""
             }
            },
            "type": "scatter3d"
           }
          ],
          "scattercarpet": [
           {
            "marker": {
             "colorbar": {
              "outlinewidth": 0,
              "ticks": ""
             }
            },
            "type": "scattercarpet"
           }
          ],
          "scattergeo": [
           {
            "marker": {
             "colorbar": {
              "outlinewidth": 0,
              "ticks": ""
             }
            },
            "type": "scattergeo"
           }
          ],
          "scattergl": [
           {
            "marker": {
             "colorbar": {
              "outlinewidth": 0,
              "ticks": ""
             }
            },
            "type": "scattergl"
           }
          ],
          "scattermapbox": [
           {
            "marker": {
             "colorbar": {
              "outlinewidth": 0,
              "ticks": ""
             }
            },
            "type": "scattermapbox"
           }
          ],
          "scatterpolar": [
           {
            "marker": {
             "colorbar": {
              "outlinewidth": 0,
              "ticks": ""
             }
            },
            "type": "scatterpolar"
           }
          ],
          "scatterpolargl": [
           {
            "marker": {
             "colorbar": {
              "outlinewidth": 0,
              "ticks": ""
             }
            },
            "type": "scatterpolargl"
           }
          ],
          "scatterternary": [
           {
            "marker": {
             "colorbar": {
              "outlinewidth": 0,
              "ticks": ""
             }
            },
            "type": "scatterternary"
           }
          ],
          "surface": [
           {
            "colorbar": {
             "outlinewidth": 0,
             "ticks": ""
            },
            "colorscale": [
             [
              0,
              "#0d0887"
             ],
             [
              0.1111111111111111,
              "#46039f"
             ],
             [
              0.2222222222222222,
              "#7201a8"
             ],
             [
              0.3333333333333333,
              "#9c179e"
             ],
             [
              0.4444444444444444,
              "#bd3786"
             ],
             [
              0.5555555555555556,
              "#d8576b"
             ],
             [
              0.6666666666666666,
              "#ed7953"
             ],
             [
              0.7777777777777778,
              "#fb9f3a"
             ],
             [
              0.8888888888888888,
              "#fdca26"
             ],
             [
              1,
              "#f0f921"
             ]
            ],
            "type": "surface"
           }
          ],
          "table": [
           {
            "cells": {
             "fill": {
              "color": "#EBF0F8"
             },
             "line": {
              "color": "white"
             }
            },
            "header": {
             "fill": {
              "color": "#C8D4E3"
             },
             "line": {
              "color": "white"
             }
            },
            "type": "table"
           }
          ]
         },
         "layout": {
          "annotationdefaults": {
           "arrowcolor": "#2a3f5f",
           "arrowhead": 0,
           "arrowwidth": 1
          },
          "autotypenumbers": "strict",
          "coloraxis": {
           "colorbar": {
            "outlinewidth": 0,
            "ticks": ""
           }
          },
          "colorscale": {
           "diverging": [
            [
             0,
             "#8e0152"
            ],
            [
             0.1,
             "#c51b7d"
            ],
            [
             0.2,
             "#de77ae"
            ],
            [
             0.3,
             "#f1b6da"
            ],
            [
             0.4,
             "#fde0ef"
            ],
            [
             0.5,
             "#f7f7f7"
            ],
            [
             0.6,
             "#e6f5d0"
            ],
            [
             0.7,
             "#b8e186"
            ],
            [
             0.8,
             "#7fbc41"
            ],
            [
             0.9,
             "#4d9221"
            ],
            [
             1,
             "#276419"
            ]
           ],
           "sequential": [
            [
             0,
             "#0d0887"
            ],
            [
             0.1111111111111111,
             "#46039f"
            ],
            [
             0.2222222222222222,
             "#7201a8"
            ],
            [
             0.3333333333333333,
             "#9c179e"
            ],
            [
             0.4444444444444444,
             "#bd3786"
            ],
            [
             0.5555555555555556,
             "#d8576b"
            ],
            [
             0.6666666666666666,
             "#ed7953"
            ],
            [
             0.7777777777777778,
             "#fb9f3a"
            ],
            [
             0.8888888888888888,
             "#fdca26"
            ],
            [
             1,
             "#f0f921"
            ]
           ],
           "sequentialminus": [
            [
             0,
             "#0d0887"
            ],
            [
             0.1111111111111111,
             "#46039f"
            ],
            [
             0.2222222222222222,
             "#7201a8"
            ],
            [
             0.3333333333333333,
             "#9c179e"
            ],
            [
             0.4444444444444444,
             "#bd3786"
            ],
            [
             0.5555555555555556,
             "#d8576b"
            ],
            [
             0.6666666666666666,
             "#ed7953"
            ],
            [
             0.7777777777777778,
             "#fb9f3a"
            ],
            [
             0.8888888888888888,
             "#fdca26"
            ],
            [
             1,
             "#f0f921"
            ]
           ]
          },
          "colorway": [
           "#636efa",
           "#EF553B",
           "#00cc96",
           "#ab63fa",
           "#FFA15A",
           "#19d3f3",
           "#FF6692",
           "#B6E880",
           "#FF97FF",
           "#FECB52"
          ],
          "font": {
           "color": "#2a3f5f"
          },
          "geo": {
           "bgcolor": "white",
           "lakecolor": "white",
           "landcolor": "#E5ECF6",
           "showlakes": true,
           "showland": true,
           "subunitcolor": "white"
          },
          "hoverlabel": {
           "align": "left"
          },
          "hovermode": "closest",
          "mapbox": {
           "style": "light"
          },
          "paper_bgcolor": "white",
          "plot_bgcolor": "#E5ECF6",
          "polar": {
           "angularaxis": {
            "gridcolor": "white",
            "linecolor": "white",
            "ticks": ""
           },
           "bgcolor": "#E5ECF6",
           "radialaxis": {
            "gridcolor": "white",
            "linecolor": "white",
            "ticks": ""
           }
          },
          "scene": {
           "xaxis": {
            "backgroundcolor": "#E5ECF6",
            "gridcolor": "white",
            "gridwidth": 2,
            "linecolor": "white",
            "showbackground": true,
            "ticks": "",
            "zerolinecolor": "white"
           },
           "yaxis": {
            "backgroundcolor": "#E5ECF6",
            "gridcolor": "white",
            "gridwidth": 2,
            "linecolor": "white",
            "showbackground": true,
            "ticks": "",
            "zerolinecolor": "white"
           },
           "zaxis": {
            "backgroundcolor": "#E5ECF6",
            "gridcolor": "white",
            "gridwidth": 2,
            "linecolor": "white",
            "showbackground": true,
            "ticks": "",
            "zerolinecolor": "white"
           }
          },
          "shapedefaults": {
           "line": {
            "color": "#2a3f5f"
           }
          },
          "ternary": {
           "aaxis": {
            "gridcolor": "white",
            "linecolor": "white",
            "ticks": ""
           },
           "baxis": {
            "gridcolor": "white",
            "linecolor": "white",
            "ticks": ""
           },
           "bgcolor": "#E5ECF6",
           "caxis": {
            "gridcolor": "white",
            "linecolor": "white",
            "ticks": ""
           }
          },
          "title": {
           "x": 0.05
          },
          "xaxis": {
           "automargin": true,
           "gridcolor": "white",
           "linecolor": "white",
           "ticks": "",
           "title": {
            "standoff": 15
           },
           "zerolinecolor": "white",
           "zerolinewidth": 2
          },
          "yaxis": {
           "automargin": true,
           "gridcolor": "white",
           "linecolor": "white",
           "ticks": "",
           "title": {
            "standoff": 15
           },
           "zerolinecolor": "white",
           "zerolinewidth": 2
          }
         }
        },
        "title": {
         "text": "t-SNE"
        },
        "xaxis": {
         "anchor": "y",
         "domain": [
          0,
          1
         ],
         "title": {
          "text": "1st dimension"
         }
        },
        "yaxis": {
         "anchor": "x",
         "domain": [
          0,
          1
         ],
         "title": {
          "text": "2st dimension"
         }
        }
       }
      }
     },
     "metadata": {},
     "output_type": "display_data"
    }
   ],
   "source": [
    "fig = px.scatter(\n",
    "    x=X_transformed[:, 0],\n",
    "    y=X_transformed[:, 1],\n",
    "    color=df['topic'],\n",
    "    text=df['word'],\n",
    "    title='t-SNE',\n",
    "    labels={'x': '1st dimension', 'y': '2st dimension'},\n",
    ")\n",
    "\n",
    "fig.update_layout(legend_title_text='Topic')\n",
    "\n",
    "fig.update_traces(\n",
    "    textposition='top center',\n",
    "    marker=dict(size=12,\n",
    "                line=dict(width=2,\n",
    "                          color='DarkSlateGrey'))\n",
    ")"
   ]
  },
  {
   "cell_type": "markdown",
   "metadata": {},
   "source": [
    "**Nhận xét**\n",
    "\n",
    "- Các clusters được phân tách rõ ràng, tình trạng overlap giữa các cluster đã được giảm đi đáng kể.\n",
    "\n",
    "- Có thể thấy rằng, các từ thuộc về một chủ đề nhất định thường nằm trong cùng một cluster. Bởi vì mục tiêu của t-sne là cố gắng duy trì độ tương tự của các điểm dữ liệu trong không gian mới so với ban đầu.\n",
    "\n",
    "- Ví dụ: các từ thuộc chủ đề \"chữ số\" như : one, two, three... có xu hướng nằm gần nhau."
   ]
  },
  {
   "cell_type": "markdown",
   "metadata": {},
   "source": [
    "# Kết luận\n",
    "\n",
    "## PCA\n",
    "\n",
    "### Điểm mạnh\n",
    "\n",
    "- Hiệu quả trong tính toán: PCA có hiệu quả tính toán, đặc biệt là đối với các bộ dữ liệu lớn, làm cho nó phù hợp cho dữ liệu có số chiều cao.\n",
    "\n",
    "- Bảo toàn cấu trúc toàn cục của dữ liệu: PCA tập trung vào việc bảo toàn cấu trúc toàn cục của dữ liệu bằng cách giữ lại phương sai lớn nhất.\n",
    "\n",
    "- Dễ dàng truyền tải: các thành phần chính từ PCA là tổ hợp tuyến tính của features ban đầu, làm cho chúng có thể được giải thích dễ dàng theo các đặc điểm gốc.\n",
    "\n",
    "- Trích lọc đặc trưng: giúp đơn giản hoá dữ liệu ban đầu, giúp quá trình huấn luyện mô hình học máy trở nên hiệu quả hơn.\n",
    "\n",
    "\n",
    "### Điểm yếu\n",
    "\n",
    "- Giả định về sự tuyến tính: PCA giả định rằng cấu trúc của dữ liệu là tuyến tính, điều này có thể không đúng với các bộ dữ liệu phức tạp với mối quan hệ phi tuyến.\n",
    "\n",
    "- Mất cấu trúc địa phương: PCA có thể không bảo toàn cấu trúc cục bộ hoặc mối quan hệ giữa các điểm dữ liệu gần nhau\n",
    "\n",
    "- Nhạy cảm với ngoại lai: việc tối đa hóa phương sai có thể bị ảnh hưởng nặng nề bởi các giá trị ngoại lai\n",
    "\n",
    "### Các trường hợp sử dụng\n",
    "\n",
    "- Mục tiêu giảm chiều dữ liệu\n",
    "\n",
    "- Ưu tiên hiệu suất tính toán\n",
    "\n",
    "- Lựa chọn đặc trưng cho học máy"
   ]
  },
  {
   "cell_type": "markdown",
   "metadata": {},
   "source": [
    "\n",
    "## t-SNE\n",
    "\n",
    "### Điểm mạnh\n",
    "\n",
    "- Giảm chiều phi tuyến tính: t-SNE hiệu quả trong việc phát hiện các mối quan hệ phi tuyến tính giữa các điểm dữ liệu\n",
    "\n",
    "- Bảo toàn cấu trúc cục bộ: t-SNE bảo toàn cấu trúc địa phương của dữ liệu bằng cách mô hình hóa sự tương tự giữa các điểm gần nhau trong không gian có số chiều cao.\n",
    "\n",
    "- Khả năng trực quan: t-SNE được sử dụng rộng rãi cho mục đích trực quan các cụm và mẫu trong dữ liệu có số chiều cao.\n",
    "\n",
    "### Điểm yếu\n",
    "\n",
    "- Chi phí tính toán cao: t-SNE có thể tốn kém về mặt tính toán, đặc biệt là đối với các bộ dữ liệu lớn, và có thể yêu cầu điều chỉnh cẩn thận của các siêu tham số.\n",
    "\n",
    "- Khó truyền tải: việc giải thích kết quả phức tạp, vì các khoảng cách trong không gian có số chiều thấp không tương ứng trực tiếp với không gian gốc.\n",
    "\n",
    "### Các trường hợp sử dụng\n",
    "\n",
    "- Trực quan hoá dữ liệu\n",
    "\n",
    "- Mạnh mẽ trong trực quan hóa dữ liệu và khám phá các cấu trúc phức tạp\n",
    "\n",
    "\n",
    "\n"
   ]
  }
 ],
 "metadata": {
  "kernelspec": {
   "display_name": "min_ds-env",
   "language": "python",
   "name": "python3"
  },
  "language_info": {
   "codemirror_mode": {
    "name": "ipython",
    "version": 3
   },
   "file_extension": ".py",
   "mimetype": "text/x-python",
   "name": "python",
   "nbconvert_exporter": "python",
   "pygments_lexer": "ipython3",
   "version": "3.10.8"
  }
 },
 "nbformat": 4,
 "nbformat_minor": 2
}
